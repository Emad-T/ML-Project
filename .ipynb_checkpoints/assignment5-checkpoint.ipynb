{
 "cells": [
  {
   "cell_type": "code",
   "execution_count": 16,
   "metadata": {},
   "outputs": [],
   "source": [
    "#Part 1 - Reading Data and Saving Different Matrices\n",
    "import pandas as pd\n",
    "import sys\n",
    "import matplotlib.pyplot as plt\n",
    "from sklearn import preprocessing\n",
    "import numpy as np\n",
    "from sklearn.model_selection import train_test_split\n",
    "from sklearn.svm import SVC\n",
    "from sklearn.svm import LinearSVC\n",
    "from sklearn.neighbors import KNeighborsClassifier\n",
    "from sklearn.model_selection import cross_validate\n",
    "from sklearn import metrics\n",
    "from sklearn import tree\n",
    "from sklearn.feature_selection import SelectKBest, chi2\n"
   ]
  },
  {
   "cell_type": "code",
   "execution_count": 17,
   "metadata": {},
   "outputs": [],
   "source": [
    "try:\n",
    "    df = pd.read_csv(\"Spotify-2000.csv\", index_col=False, thousands=',')\n",
    "except FileNotFoundError:\n",
    "    print(\"Try again\")"
   ]
  },
  {
   "cell_type": "code",
   "execution_count": 18,
   "metadata": {},
   "outputs": [],
   "source": [
    "df=df.drop(['Index','Title', 'Artist', 'Year'], axis=1)"
   ]
  },
  {
   "cell_type": "code",
   "execution_count": 19,
   "metadata": {},
   "outputs": [],
   "source": [
    "genre_counts=df['Top Genre'].value_counts()\n",
    "list_of_genres=list(genre_counts.index.values)\n",
    "le=preprocessing.LabelEncoder()\n",
    "le.fit(list_of_genres)\n",
    "df['Top Genre']=le.transform(df['Top Genre'])"
   ]
  },
  {
   "cell_type": "code",
   "execution_count": 20,
   "metadata": {},
   "outputs": [],
   "source": [
    "X=df.drop('Popularity', axis=1)\n",
    "y=df['Popularity']"
   ]
  },
  {
   "cell_type": "code",
   "execution_count": 21,
   "metadata": {},
   "outputs": [],
   "source": [
    "isPopular = pd.cut(y,bins=[1,50,100], labels=['yes','no'])\n",
    "y = y.to_frame()\n",
    "y.insert(0,'isPopular', isPopular)\n",
    "y.drop('Popularity', axis=1, inplace=True)"
   ]
  },
  {
   "cell_type": "code",
   "execution_count": 22,
   "metadata": {},
   "outputs": [],
   "source": [
    "X_train, X_test, y_train, y_test = train_test_split(X,y,test_size=0.2,random_state=4)"
   ]
  },
  {
   "cell_type": "code",
   "execution_count": 23,
   "metadata": {},
   "outputs": [],
   "source": [
    "from sklearn.preprocessing import MinMaxScaler\n",
    "\n",
    "# define min max scaler\n",
    "scaler = MinMaxScaler()\n",
    "# transform data\n",
    "X_minmax = scaler.fit_transform(X)\n"
   ]
  },
  {
   "cell_type": "code",
   "execution_count": 24,
   "metadata": {},
   "outputs": [
    {
     "name": "stdout",
     "output_type": "stream",
     "text": [
      "{'fit_time': array([0.00502181, 0.        , 0.0037477 , 0.00399137, 0.00298786]), 'score_time': array([0.00097156, 0.        , 0.00099683, 0.        , 0.        ]), 'test_score': array([0.72431078, 0.74185464, 0.73684211, 0.72932331, 0.74371859])}\n"
     ]
    },
    {
     "name": "stderr",
     "output_type": "stream",
     "text": [
      "C:\\Users\\tiger\\anaconda3\\lib\\site-packages\\sklearn\\utils\\validation.py:72: DataConversionWarning: A column-vector y was passed when a 1d array was expected. Please change the shape of y to (n_samples, ), for example using ravel().\n",
      "  return f(**kwargs)\n",
      "C:\\Users\\tiger\\anaconda3\\lib\\site-packages\\sklearn\\utils\\validation.py:72: DataConversionWarning: A column-vector y was passed when a 1d array was expected. Please change the shape of y to (n_samples, ), for example using ravel().\n",
      "  return f(**kwargs)\n",
      "C:\\Users\\tiger\\anaconda3\\lib\\site-packages\\sklearn\\utils\\validation.py:72: DataConversionWarning: A column-vector y was passed when a 1d array was expected. Please change the shape of y to (n_samples, ), for example using ravel().\n",
      "  return f(**kwargs)\n",
      "C:\\Users\\tiger\\anaconda3\\lib\\site-packages\\sklearn\\utils\\validation.py:72: DataConversionWarning: A column-vector y was passed when a 1d array was expected. Please change the shape of y to (n_samples, ), for example using ravel().\n",
      "  return f(**kwargs)\n",
      "C:\\Users\\tiger\\anaconda3\\lib\\site-packages\\sklearn\\utils\\validation.py:72: DataConversionWarning: A column-vector y was passed when a 1d array was expected. Please change the shape of y to (n_samples, ), for example using ravel().\n",
      "  return f(**kwargs)\n"
     ]
    }
   ],
   "source": [
    "#Using MinMax with LinearSVC model\n",
    "\n",
    "linearSVC= LinearSVC(dual=False)\n",
    "\n",
    "cv_results_5=cross_validate(linearSVC,X_minmax,y,cv=5)\n",
    "print(cv_results_5)"
   ]
  },
  {
   "cell_type": "code",
   "execution_count": 25,
   "metadata": {},
   "outputs": [
    {
     "name": "stdout",
     "output_type": "stream",
     "text": [
      "{'fit_time': array([0.00706983, 0.00598454, 0.00499058, 0.00499082, 0.00411534]), 'score_time': array([0.00095534, 0.00102282, 0.00099492, 0.00095892, 0.        ]), 'test_score': array([0.77443609, 0.73934837, 0.80952381, 0.77192982, 0.77889447])}\n"
     ]
    }
   ],
   "source": [
    "#Using MinMax with DT Model\n",
    "\n",
    "DT_clf = tree.DecisionTreeClassifier(min_samples_split=4, max_depth=5)\n",
    "cv_results_5=cross_validate(DT_clf,X_minmax,y,cv=5)\n",
    "print(cv_results_5)"
   ]
  },
  {
   "cell_type": "code",
   "execution_count": 35,
   "metadata": {},
   "outputs": [
    {
     "name": "stdout",
     "output_type": "stream",
     "text": [
      "      Top Genre  Beats Per Minute (BPM)  Energy  Danceability  Loudness (dB)  \\\n",
      "0             2                     157      30            53            -14   \n",
      "1             5                     135      79            50            -11   \n",
      "2             8                     168      69            66             -9   \n",
      "3             9                     173      96            43             -4   \n",
      "4            61                     106      82            58             -5   \n",
      "...         ...                     ...     ...           ...            ...   \n",
      "1989          2                      94      21            70            -12   \n",
      "1990          2                     175      76            36             -8   \n",
      "1991         34                     168      80            53             -9   \n",
      "1992         28                     174      26            45            -13   \n",
      "1993          2                     133      50            49            -10   \n",
      "\n",
      "      Liveness  Valence  Length (Duration)  Acousticness  Speechiness  \n",
      "0           11       68                201            94            3  \n",
      "1           17       81                207            17            7  \n",
      "2            7       52                341             2           17  \n",
      "3            3       37                269             0            4  \n",
      "4           10       87                256             1            3  \n",
      "...        ...      ...                ...           ...          ...  \n",
      "1989        11       72                128            84            7  \n",
      "1990        76       95                136            73            6  \n",
      "1991        31       97                162            74            7  \n",
      "1992         7       60                324            54            4  \n",
      "1993        16       83                148            74            3  \n",
      "\n",
      "[1994 rows x 10 columns]\n"
     ]
    }
   ],
   "source": [
    "print(X)\n",
    "X=df.drop('Loudness (dB)', axis=1) #Remove this line later"
   ]
  },
  {
   "cell_type": "code",
   "execution_count": 36,
   "metadata": {},
   "outputs": [],
   "source": [
    "#Using SelectKBest\n",
    "\n",
    "X_best = SelectKBest(chi2,k=10).fit_transform(X,y)"
   ]
  },
  {
   "cell_type": "code",
   "execution_count": 37,
   "metadata": {},
   "outputs": [
    {
     "name": "stdout",
     "output_type": "stream",
     "text": [
      "{'fit_time': array([0.00795484, 0.0069809 , 0.00698137, 0.0079565 , 0.00458002]), 'score_time': array([0.0009973 , 0.        , 0.00103045, 0.        , 0.00507951]), 'test_score': array([0.99498747, 0.99498747, 0.97994987, 0.98746867, 0.98241206])}\n"
     ]
    },
    {
     "name": "stderr",
     "output_type": "stream",
     "text": [
      "C:\\Users\\tiger\\anaconda3\\lib\\site-packages\\sklearn\\utils\\validation.py:72: DataConversionWarning: A column-vector y was passed when a 1d array was expected. Please change the shape of y to (n_samples, ), for example using ravel().\n",
      "  return f(**kwargs)\n",
      "C:\\Users\\tiger\\anaconda3\\lib\\site-packages\\sklearn\\utils\\validation.py:72: DataConversionWarning: A column-vector y was passed when a 1d array was expected. Please change the shape of y to (n_samples, ), for example using ravel().\n",
      "  return f(**kwargs)\n",
      "C:\\Users\\tiger\\anaconda3\\lib\\site-packages\\sklearn\\utils\\validation.py:72: DataConversionWarning: A column-vector y was passed when a 1d array was expected. Please change the shape of y to (n_samples, ), for example using ravel().\n",
      "  return f(**kwargs)\n",
      "C:\\Users\\tiger\\anaconda3\\lib\\site-packages\\sklearn\\utils\\validation.py:72: DataConversionWarning: A column-vector y was passed when a 1d array was expected. Please change the shape of y to (n_samples, ), for example using ravel().\n",
      "  return f(**kwargs)\n",
      "C:\\Users\\tiger\\anaconda3\\lib\\site-packages\\sklearn\\utils\\validation.py:72: DataConversionWarning: A column-vector y was passed when a 1d array was expected. Please change the shape of y to (n_samples, ), for example using ravel().\n",
      "  return f(**kwargs)\n"
     ]
    }
   ],
   "source": [
    "#Using SelectKBest with LinearSVC\n",
    "\n",
    "cv_results_5=cross_validate(linearSVC,X_best,y,cv=5)\n",
    "print(cv_results_5)"
   ]
  },
  {
   "cell_type": "code",
   "execution_count": 38,
   "metadata": {},
   "outputs": [
    {
     "name": "stdout",
     "output_type": "stream",
     "text": [
      "{'fit_time': array([0.00302577, 0.00395727, 0.0029943 , 0.00302505, 0.00303292]), 'score_time': array([0.00199223, 0.00103068, 0.0009613 , 0.00096393, 0.00098991]), 'test_score': array([1., 1., 1., 1., 1.])}\n"
     ]
    }
   ],
   "source": [
    "#Using SelectKBest with DT\n",
    "\n",
    "cv_results_5=cross_validate(DT_clf,X_best,y,cv=5)\n",
    "print(cv_results_5)\n"
   ]
  },
  {
   "cell_type": "code",
   "execution_count": null,
   "metadata": {},
   "outputs": [],
   "source": [
    "# from sklearn.metrics import classification_report, confusion_matrix, accuracy_score\n",
    "\n",
    "# print(confusion_matrix(y_test,y_pred))\n",
    "# print(classification_report(y_test,y_pred))\n",
    "# print(accuracy_score(y_test, y_pred))"
   ]
  }
 ],
 "metadata": {
  "kernelspec": {
   "display_name": "Python 3",
   "language": "python",
   "name": "python3"
  },
  "language_info": {
   "codemirror_mode": {
    "name": "ipython",
    "version": 3
   },
   "file_extension": ".py",
   "mimetype": "text/x-python",
   "name": "python",
   "nbconvert_exporter": "python",
   "pygments_lexer": "ipython3",
   "version": "3.8.5"
  }
 },
 "nbformat": 4,
 "nbformat_minor": 4
}
